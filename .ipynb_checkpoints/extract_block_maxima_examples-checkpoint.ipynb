{
 "cells": [
  {
   "cell_type": "code",
   "execution_count": 1,
   "id": "0f79960f-54ba-46e9-8330-2c255b39f9a6",
   "metadata": {},
   "outputs": [],
   "source": [
    "source(\"./src/extract_block_maxima.R\")"
   ]
  },
  {
   "cell_type": "code",
   "execution_count": 4,
   "id": "9fd6811a-19f3-41e7-a232-7caaf25711f3",
   "metadata": {},
   "outputs": [
    {
     "data": {
      "text/html": [
       "<style>\n",
       ".list-inline {list-style: none; margin:0; padding: 0}\n",
       ".list-inline>li {display: inline-block}\n",
       ".list-inline>li:not(:last-child)::after {content: \"\\00b7\"; padding: 0 .5ex}\n",
       "</style>\n",
       "<ol class=list-inline><li>2.10080747281153</li><li>2.11830409391318</li><li>1.80610093240945</li><li>2.02157724351101</li><li>2.8181962812301</li><li>2.042797925991</li><li>2.34076474542147</li><li>2.15509800928167</li><li>1.74387176156088</li><li>1.59354994748435</li><li>2.48208636971393</li><li>1.61893882598949</li><li>2.1457590036235</li><li>2.56786383602614</li><li>2.90975842050026</li><li>2.14889609933732</li><li>2.12711876908679</li><li>2.19289151915942</li><li>2.10685255604668</li><li>2.51361892483326</li></ol>\n"
      ],
      "text/latex": [
       "\\begin{enumerate*}\n",
       "\\item 2.10080747281153\n",
       "\\item 2.11830409391318\n",
       "\\item 1.80610093240945\n",
       "\\item 2.02157724351101\n",
       "\\item 2.8181962812301\n",
       "\\item 2.042797925991\n",
       "\\item 2.34076474542147\n",
       "\\item 2.15509800928167\n",
       "\\item 1.74387176156088\n",
       "\\item 1.59354994748435\n",
       "\\item 2.48208636971393\n",
       "\\item 1.61893882598949\n",
       "\\item 2.1457590036235\n",
       "\\item 2.56786383602614\n",
       "\\item 2.90975842050026\n",
       "\\item 2.14889609933732\n",
       "\\item 2.12711876908679\n",
       "\\item 2.19289151915942\n",
       "\\item 2.10685255604668\n",
       "\\item 2.51361892483326\n",
       "\\end{enumerate*}\n"
      ],
      "text/markdown": [
       "1. 2.10080747281153\n",
       "2. 2.11830409391318\n",
       "3. 1.80610093240945\n",
       "4. 2.02157724351101\n",
       "5. 2.8181962812301\n",
       "6. 2.042797925991\n",
       "7. 2.34076474542147\n",
       "8. 2.15509800928167\n",
       "9. 1.74387176156088\n",
       "10. 1.59354994748435\n",
       "11. 2.48208636971393\n",
       "12. 1.61893882598949\n",
       "13. 2.1457590036235\n",
       "14. 2.56786383602614\n",
       "15. 2.90975842050026\n",
       "16. 2.14889609933732\n",
       "17. 2.12711876908679\n",
       "18. 2.19289151915942\n",
       "19. 2.10685255604668\n",
       "20. 2.51361892483326\n",
       "\n",
       "\n"
      ],
      "text/plain": [
       " [1] 2.100807 2.118304 1.806101 2.021577 2.818196 2.042798 2.340765 2.155098\n",
       " [9] 1.743872 1.593550 2.482086 1.618939 2.145759 2.567864 2.909758 2.148896\n",
       "[17] 2.127119 2.192892 2.106853 2.513619"
      ]
     },
     "metadata": {},
     "output_type": "display_data"
    }
   ],
   "source": [
    "# example 1\n",
    "\n",
    "x <- rnorm(n = 1000)\n",
    "\n",
    "results <- extract_block_maxima(x, block_size = 50)\n",
    "\n",
    "results"
   ]
  },
  {
   "cell_type": "code",
   "execution_count": 9,
   "id": "16c569ba-49f9-4b53-8eb4-20df6213069a",
   "metadata": {},
   "outputs": [
    {
     "data": {
      "image/png": "[encoded data removed]",
      "text/plain": [
       "plot without title"
      ]
     },
     "metadata": {
      "image/png": {
       "height": 480,
       "width": 720
      }
     },
     "output_type": "display_data"
    }
   ],
   "source": [
    "options(repr.plot.width=12, repr.plot.height=8)\n",
    "plot(results)"
   ]
  },
  {
   "cell_type": "code",
   "execution_count": 3,
   "id": "661f0c6d-3929-44e8-8fad-e392c7ce7fa3",
   "metadata": {},
   "outputs": [
    {
     "data": {
      "text/html": [
       "<style>\n",
       ".list-inline {list-style: none; margin:0; padding: 0}\n",
       ".list-inline>li {display: inline-block}\n",
       ".list-inline>li:not(:last-child)::after {content: \"\\00b7\"; padding: 0 .5ex}\n",
       "</style>\n",
       "<ol class=list-inline><li>50</li><li>100</li><li>150</li><li>200</li><li>250</li><li>300</li><li>350</li><li>400</li><li>450</li><li>500</li><li>550</li><li>600</li><li>650</li><li>700</li><li>750</li><li>800</li><li>850</li><li>900</li><li>950</li><li>1000</li></ol>\n"
      ],
      "text/latex": [
       "\\begin{enumerate*}\n",
       "\\item 50\n",
       "\\item 100\n",
       "\\item 150\n",
       "\\item 200\n",
       "\\item 250\n",
       "\\item 300\n",
       "\\item 350\n",
       "\\item 400\n",
       "\\item 450\n",
       "\\item 500\n",
       "\\item 550\n",
       "\\item 600\n",
       "\\item 650\n",
       "\\item 700\n",
       "\\item 750\n",
       "\\item 800\n",
       "\\item 850\n",
       "\\item 900\n",
       "\\item 950\n",
       "\\item 1000\n",
       "\\end{enumerate*}\n"
      ],
      "text/markdown": [
       "1. 50\n",
       "2. 100\n",
       "3. 150\n",
       "4. 200\n",
       "5. 250\n",
       "6. 300\n",
       "7. 350\n",
       "8. 400\n",
       "9. 450\n",
       "10. 500\n",
       "11. 550\n",
       "12. 600\n",
       "13. 650\n",
       "14. 700\n",
       "15. 750\n",
       "16. 800\n",
       "17. 850\n",
       "18. 900\n",
       "19. 950\n",
       "20. 1000\n",
       "\n",
       "\n"
      ],
      "text/plain": [
       " [1]   50  100  150  200  250  300  350  400  450  500  550  600  650  700  750\n",
       "[16]  800  850  900  950 1000"
      ]
     },
     "metadata": {},
     "output_type": "display_data"
    }
   ],
   "source": [
    "# example 2\n",
    " \n",
    "x <- 1:1000\n",
    " \n",
    "results <- extract_block_maxima(x, block_size = 50)\n",
    "\n",
    "results"
   ]
  },
  {
   "cell_type": "code",
   "execution_count": null,
   "id": "2760d400-9df3-4ab1-8871-1d9764aaae3e",
   "metadata": {},
   "outputs": [],
   "source": []
  }
 ],
 "metadata": {
  "kernelspec": {
   "display_name": "R",
   "language": "R",
   "name": "ir"
  },
  "language_info": {
   "codemirror_mode": "r",
   "file_extension": ".r",
   "mimetype": "text/x-r-source",
   "name": "R",
   "pygments_lexer": "r",
   "version": "4.3.1"
  }
 },
 "nbformat": 4,
 "nbformat_minor": 5
}
